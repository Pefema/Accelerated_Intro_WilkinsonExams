{
 "cells": [
  {
   "cell_type": "markdown",
   "metadata": {},
   "source": [
    "# Problem 2\n",
    "The command **\"dir\"** shows the current directory. The command **\"ls\"** could also be used to have a slightly different format\n",
    "- **-l** shows the information as a list with more information like permissions, ownership, size, etc. \n",
    "- **-h** shows the files or folders with human readable size \"instead of bytes\".\n",
    "\n",
    "The owner of Locus_Germplasm_Phenotype_20130122.txt is **osboxes** and the group is also **osboxes**.\n",
    "<br>The file size of Locus_Germplasm_Phenotype_20130122.txt is **1.2 MB**\n",
    "\n",
    "The permissions for that files are:\n",
    "- For users: read and write (not execute) rw -\n",
    "- For group: read and write (not execute) rw -\n",
    "- For all: read (not write or execute) r - -\n",
    "<br>\n",
    "<br>The first hyphen (-) shows if it is a file (-) or a directory (d). In that case there are only files. "
   ]
  },
  {
   "cell_type": "code",
   "execution_count": null,
   "metadata": {},
   "outputs": [],
   "source": [
    "#Displays the directory list in human readable size.\n",
    "dir -lh"
   ]
  },
  {
   "cell_type": "markdown",
   "metadata": {},
   "source": [
    "# Problem 3\n",
    "The command head is used to display the first XXX lines of a file. In this case just the first line or header.\n",
    "<br>The header is **\"Locus_name)\tGermplasm_name\tphenotype\tpubmed_id\"**"
   ]
  },
  {
   "cell_type": "code",
   "execution_count": null,
   "metadata": {},
   "outputs": [],
   "source": [
    "#Displays the first XXX lines of a file. In this case only the first line -1. \n",
    "head -1 Locus_Germplasm_Phenotype_20130122.txt"
   ]
  },
  {
   "cell_type": "markdown",
   "metadata": {},
   "source": [
    "# Problem 4\n",
    "The command **\"wc\"** is used to count the lines, words and bytes of a file. Used with **\"-l\"** counts only the lines.\n",
    "<br>In this case the Locus_Germplasm_Phenotype_20130122.txt has **7216 lines.** "
   ]
  },
  {
   "cell_type": "code",
   "execution_count": null,
   "metadata": {},
   "outputs": [],
   "source": [
    "#Counts the number of lines from the file. \n",
    "wc -l Locus_Germplasm_Phenotype_20130122.txt"
   ]
  },
  {
   "cell_type": "markdown",
   "metadata": {},
   "source": [
    "# Problem 5\n",
    "The command **\"tail\"** is used to display the last XXX lines of a file. From the problem 4 it is known that the file has 7216 lines. To display the document without the header, it can be done manually, doing 7216-1 and displaying the **7215** last lines or saving the result from the previous problem as a variable, subtracting 1 and using the result to display the tail of the file.\n",
    "\n",
    "The second option saves the result from the count of lines in a variable called **\"total_lines\"**, then subtracts 1 from the count of lines and saves the result as another variable called **\"rest_lines\"** and finally displays the **\"tail\"** of the file using the **\"rest_lines\"** variable as the number of displayed lines and the command **\"tail\"**. \n",
    "<br>\n",
    "<br>In order to write the data lines to a new file called **\"Data_Only.csv\"** it has to be used the symbol **\">\"**. \n",
    "<br>\n",
    "<br>For proving that the output file has the expected number of lines it can be made and if statement, comparing the line count of each document. If the count is the same number, then it can be printed **\"The output file has the expected number of lines\"**. Otherwise **\"The output file is wrong\"** will be printed. The **\"if\"** statement always ends with a **\"fi\"**."
   ]
  },
  {
   "cell_type": "code",
   "execution_count": null,
   "metadata": {},
   "outputs": [],
   "source": [
    "#Option 1. Displays the file without the header line. \n",
    "tail -7215 < Locus_Germplasm_Phenotype_20130122.txt > \"Data_Only.csv\""
   ]
  },
  {
   "cell_type": "code",
   "execution_count": null,
   "metadata": {},
   "outputs": [],
   "source": [
    "#Option 2. Saves the count of lines as a variable (total_lines).\n",
    "total_lines=$(wc -l < Locus_Germplasm_Phenotype_20130122.txt)\n",
    "#Subtracts 1 from the total of lines and saves the result as another variable (rest_lines).\n",
    "rest_lines=$((total_lines-1))\n",
    "#Displays the number of lines in the file minus 1.\n",
    "tail -$rest_lines Locus_Germplasm_Phenotype_20130122.txt  > \"Data_Only.csv\""
   ]
  },
  {
   "cell_type": "code",
   "execution_count": null,
   "metadata": {},
   "outputs": [],
   "source": [
    "#Prints \"The output file has the expected number of lines\" if the statemet is TRUE \n",
    "#and \"The output file is wrong\" if it is FALSE.\n",
    "#It uses the line count (wc -l) for the new file and the variable \"total_lines\" minus 1 for the previous one.\n",
    "if [ \"$(wc -l < Data_Only.csv)\" = \"$((total_lines-1))\" ]; then\n",
    "    echo \"The output file has the expected number of lines.\"\n",
    "else\n",
    "    echo \"The output file is wrong.\"\n",
    "fi"
   ]
  },
  {
   "cell_type": "markdown",
   "metadata": {},
   "source": [
    "# Problem 6\n",
    "The command below shows the lines that have a phenotype including the word \"root\". **\"grep\"** is the command used, followed by **\"-i\"** which ignores the lower and upper case and **\"-a\"** which is used for binary files which come from Windows. If the origin of the file is unknown, then it should be used always -a. Then grep searches for root or roots preceeded by a space **\"\\s\"** using the expression **'\\sroot\\|\\sroots'**.  **\"\\\\|\"** means **\"OR\"** "
   ]
  },
  {
   "cell_type": "code",
   "execution_count": null,
   "metadata": {},
   "outputs": [],
   "source": [
    "#Displays the lines containing root OR roots preceeded by a space. -i non case sensitive -a binary files\n",
    "grep -ia '\\sroot\\|\\sroots' Data_Only.csv"
   ]
  },
  {
   "cell_type": "markdown",
   "metadata": {},
   "source": [
    "# Problem 7\n",
    "In order to write the AGI Locus Code in a new file, first of all it has to be done a search of the numbers using grep after doing a pipe from the previous solution, which contains only the line which has root or roots in the phenotype description. Then, grep is done using **\"-E\"**, required for the extended regular expressions, **\"-i\"** for the insensitivity to case and **\"-a\"** for binary files. The command used is **\"at[1-5]g[0-9]{5}\"**. **\"at\"** for the first two characters, **\"[1-5]\"** for the number which goes between 1 and 5, **\"g\"** for the other character, **\"[0-9]\"** for the numbers and **\"{5}\"** because there are 5 numbers at the end and we want them all. **\"-o\"** is used to display only the numbers. Then the result is saved in a new file called **\"Root-associated-Loci.txt\"**. Only the AGI Locus Code which follows the predictable structure will be saved in the file. \n",
    "The file contains empty lines which can be ignored by the moment.\n",
    "<br>There are a lot of repeated AGI Locus Codes, if it is interesting to remove the duplicates it can be done with the expression **\"uniq Root-associated-Loci.txt\"**. This expression also removes the empty lines. "
   ]
  },
  {
   "cell_type": "code",
   "execution_count": null,
   "metadata": {},
   "outputs": [],
   "source": [
    "#Takes the root or roots lines and pipes them to take the AGI Locus Code and saves it to a new file.\n",
    "grep -ia '\\sroot\\|\\sroots' Data_Only.csv | grep -E -ioa 'at[1-5]g[0-9]{5}' > Root-associated-Loci.txt"
   ]
  },
  {
   "cell_type": "code",
   "execution_count": null,
   "metadata": {},
   "outputs": [],
   "source": [
    "#Displays the file without the duplicates, but does not change the original one. \n",
    "uniq Root-associated-Loci.txt"
   ]
  },
  {
   "cell_type": "markdown",
   "metadata": {},
   "source": [
    "# Problem 8\n",
    "The command grep is used to take the words root and roots and then pipe them into another grep expression which takes each PubMed ID number from the end of each line and copies that information to a file called **\"Root-associated-Publications.txt\"**.\n",
    "<br> **\"$\"** takes the information from the end of the line. "
   ]
  },
  {
   "cell_type": "code",
   "execution_count": null,
   "metadata": {},
   "outputs": [],
   "source": [
    "#Saves the PubMed ID for every line that has the words root or roots to a file.\n",
    "grep -ia '\\sroot\\|\\sroots' Data_Only.csv | grep -E -ioa '\\s[0-9]+$' > Root-associated-Publications.txt"
   ]
  },
  {
   "cell_type": "markdown",
   "metadata": {},
   "source": [
    "# Problem 9\n",
    "The command grep is used to take the first 2 characters and the chromosome number from the Root-associated-Loci.txt previously created and pipes it into another grep expression which takes the number. Then the information is saved in another file called Root-associated-Chromosomes.txt. The information from this file is sorted with **\"sort\"** and piped into a **\"uniq\"** expression which deletes the duplicates and prints the others.\n",
    "<br>The output shows that there are all the chromosomes, so all of them have information about the roots and it can be concluded that the hypothesis is **true**."
   ]
  },
  {
   "cell_type": "code",
   "execution_count": null,
   "metadata": {},
   "outputs": [],
   "source": [
    "#Saves the chromosome number in a new file.\n",
    "grep -ioa 'at[1-5]' Root-associated-Loci.txt | grep -ioa [1-5] > Root-associated-Chromosomes.txt\n",
    "#Sorts the numbers, deletes the duplicates and prints them. \n",
    "sort Root-associated-Chromosomes.txt | uniq"
   ]
  }
 ],
 "metadata": {
  "kernelspec": {
   "display_name": "Bash",
   "language": "bash",
   "name": "bash"
  },
  "language_info": {
   "codemirror_mode": "shell",
   "file_extension": ".sh",
   "mimetype": "text/x-sh",
   "name": "bash"
  }
 },
 "nbformat": 4,
 "nbformat_minor": 2
}
